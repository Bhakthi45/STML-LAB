{
  "nbformat": 4,
  "nbformat_minor": 0,
  "metadata": {
    "colab": {
      "provenance": [],
      "authorship_tag": "ABX9TyOkpCE6KIt5LHXuKL9yKS2h",
      "include_colab_link": true
    },
    "kernelspec": {
      "name": "python3",
      "display_name": "Python 3"
    },
    "language_info": {
      "name": "python"
    }
  },
  "cells": [
    {
      "cell_type": "markdown",
      "metadata": {
        "id": "view-in-github",
        "colab_type": "text"
      },
      "source": [
        "<a href=\"https://colab.research.google.com/github/Bhakthi45/STML-LAB/blob/main/STML_LAB_4.ipynb\" target=\"_parent\"><img src=\"https://colab.research.google.com/assets/colab-badge.svg\" alt=\"Open In Colab\"/></a>"
      ]
    },
    {
      "cell_type": "code",
      "execution_count": null,
      "metadata": {
        "colab": {
          "base_uri": "https://localhost:8080/"
        },
        "id": "3JsMGljaiUUa",
        "outputId": "e19f997c-faec-4af2-b55f-a1b8d82aeaf6"
      },
      "outputs": [
        {
          "output_type": "stream",
          "name": "stdout",
          "text": [
            "Drive already mounted at /content/drive; to attempt to forcibly remount, call drive.mount(\"/content/drive\", force_remount=True).\n"
          ]
        }
      ],
      "source": [
        "from google.colab import drive\n",
        "drive.mount('/content/drive')"
      ]
    },
    {
      "cell_type": "code",
      "source": [
        "import pandas as pd\n",
        "import numpy as np\n",
        "import matplotlib.pyplot as plt\n",
        "import seaborn as sns\n",
        "from sklearn.model_selection import train_test_split\n",
        "from sklearn.linear_model import LogisticRegression\n",
        "from sklearn.metrics import accuracy_score\n",
        "data=pd.read_csv('/content/train.csv')\n",
        "columns=['battery_power', 'clock_speed', 'mobile_wt', 'talk_time', 'price_range']\n",
        "data=data.loc[:,columns]\n",
        "data.head()\n",
        "print(data)\n",
        "\n"
      ],
      "metadata": {
        "colab": {
          "base_uri": "https://localhost:8080/"
        },
        "id": "YGyiabIOiv7t",
        "outputId": "906d5a92-1684-4926-f471-ca7d32bf5e1a"
      },
      "execution_count": null,
      "outputs": [
        {
          "output_type": "stream",
          "name": "stdout",
          "text": [
            "      battery_power  clock_speed  mobile_wt  talk_time  price_range\n",
            "0               842          2.2        188         19            1\n",
            "1              1021          0.5        136          7            2\n",
            "2               563          0.5        145          9            2\n",
            "3               615          2.5        131         11            2\n",
            "4              1821          1.2        141         15            1\n",
            "...             ...          ...        ...        ...          ...\n",
            "1995            794          0.5        106         19            0\n",
            "1996           1965          2.6        187         16            2\n",
            "1997           1911          0.9        108          5            3\n",
            "1998           1512          0.9        145         19            0\n",
            "1999            510          2.0        168          2            3\n",
            "\n",
            "[2000 rows x 5 columns]\n"
          ]
        }
      ]
    },
    {
      "cell_type": "code",
      "source": [],
      "metadata": {
        "id": "IHNSOBoUiwwO"
      },
      "execution_count": null,
      "outputs": []
    },
    {
      "cell_type": "code",
      "source": [
        "print(data)\n",
        "data.tail(-1)\n",
        "xa=np.max(data)\n",
        "print(xa)\n",
        "xb=np.min(data)\n",
        "\n",
        "print(xb)\n",
        "\n",
        "for i in data:\n",
        "  data[i]=(data[i]-xb)/(xa-xb)\n",
        "\n",
        "print(data)"
      ],
      "metadata": {
        "colab": {
          "base_uri": "https://localhost:8080/"
        },
        "id": "kbaESh-qizW5",
        "outputId": "0e276f93-6ae4-4dd7-d837-02d3fb571263"
      },
      "execution_count": null,
      "outputs": [
        {
          "output_type": "stream",
          "name": "stdout",
          "text": [
            "      battery_power  clock_speed  mobile_wt  talk_time  price_range\n",
            "0               842          2.2        188         19            1\n",
            "1              1021          0.5        136          7            2\n",
            "2               563          0.5        145          9            2\n",
            "3               615          2.5        131         11            2\n",
            "4              1821          1.2        141         15            1\n",
            "...             ...          ...        ...        ...          ...\n",
            "1995            794          0.5        106         19            0\n",
            "1996           1965          2.6        187         16            2\n",
            "1997           1911          0.9        108          5            3\n",
            "1998           1512          0.9        145         19            0\n",
            "1999            510          2.0        168          2            3\n",
            "\n",
            "[2000 rows x 5 columns]\n",
            "1998.0\n",
            "0.0\n",
            "      battery_power  clock_speed  mobile_wt  talk_time  price_range\n",
            "0          0.421421     0.001101   0.094094   0.009510     0.000501\n",
            "1          0.511011     0.000250   0.068068   0.003504     0.001001\n",
            "2          0.281782     0.000250   0.072573   0.004505     0.001001\n",
            "3          0.307808     0.001251   0.065566   0.005506     0.001001\n",
            "4          0.911411     0.000601   0.070571   0.007508     0.000501\n",
            "...             ...          ...        ...        ...          ...\n",
            "1995       0.397397     0.000250   0.053053   0.009510     0.000000\n",
            "1996       0.983483     0.001301   0.093594   0.008008     0.001001\n",
            "1997       0.956456     0.000450   0.054054   0.002503     0.001502\n",
            "1998       0.756757     0.000450   0.072573   0.009510     0.000000\n",
            "1999       0.255255     0.001001   0.084084   0.001001     0.001502\n",
            "\n",
            "[2000 rows x 5 columns]\n"
          ]
        }
      ]
    },
    {
      "cell_type": "code",
      "source": [
        "features=['battery_power', 'clock_speed', 'mobile_wt', 'talk_time']\n",
        "\n",
        "x=data.loc[:, features]\n",
        "\n",
        "y=data.loc[:, 'price_range']\n",
        "\n",
        "print(x)\n",
        "print(y)"
      ],
      "metadata": {
        "colab": {
          "base_uri": "https://localhost:8080/"
        },
        "id": "FxaRIftai3By",
        "outputId": "f5a0581c-de45-4717-e9f2-0ac2968e8dc6"
      },
      "execution_count": null,
      "outputs": [
        {
          "output_type": "stream",
          "name": "stdout",
          "text": [
            "      battery_power  clock_speed  mobile_wt  talk_time\n",
            "0          0.421421     0.001101   0.094094   0.009510\n",
            "1          0.511011     0.000250   0.068068   0.003504\n",
            "2          0.281782     0.000250   0.072573   0.004505\n",
            "3          0.307808     0.001251   0.065566   0.005506\n",
            "4          0.911411     0.000601   0.070571   0.007508\n",
            "...             ...          ...        ...        ...\n",
            "1995       0.397397     0.000250   0.053053   0.009510\n",
            "1996       0.983483     0.001301   0.093594   0.008008\n",
            "1997       0.956456     0.000450   0.054054   0.002503\n",
            "1998       0.756757     0.000450   0.072573   0.009510\n",
            "1999       0.255255     0.001001   0.084084   0.001001\n",
            "\n",
            "[2000 rows x 4 columns]\n",
            "0       0.000501\n",
            "1       0.001001\n",
            "2       0.001001\n",
            "3       0.001001\n",
            "4       0.000501\n",
            "          ...   \n",
            "1995    0.000000\n",
            "1996    0.001001\n",
            "1997    0.001502\n",
            "1998    0.000000\n",
            "1999    0.001502\n",
            "Name: price_range, Length: 2000, dtype: float64\n"
          ]
        }
      ]
    },
    {
      "cell_type": "code",
      "source": [
        "x_train,x_test, y_train,y_test=train_test_split(x,y,test_size=0.2,random_state=0)\n",
        "\n",
        "print(x_train)\n",
        "\n",
        "print(y_train)\n",
        "\n",
        "print(x_test)\n",
        "\n",
        "print(y_test)"
      ],
      "metadata": {
        "colab": {
          "base_uri": "https://localhost:8080/"
        },
        "id": "ydY9wQZGi56w",
        "outputId": "15a5c080-7ab2-43e4-d339-8c2ac8804322"
      },
      "execution_count": null,
      "outputs": [
        {
          "output_type": "stream",
          "name": "stdout",
          "text": [
            "      battery_power  clock_speed  mobile_wt  talk_time\n",
            "582        0.616617     0.001451   0.084585   0.008008\n",
            "159        0.920921     0.000250   0.071071   0.005005\n",
            "1827       0.846847     0.001051   0.053053   0.003504\n",
            "318        0.254254     0.000400   0.047047   0.003504\n",
            "708        0.488989     0.001401   0.082583   0.005005\n",
            "...             ...          ...        ...        ...\n",
            "835        0.612613     0.000801   0.078579   0.006507\n",
            "1216       0.579580     0.000350   0.061562   0.007508\n",
            "1653       0.595596     0.001001   0.046547   0.004505\n",
            "559        0.596096     0.001201   0.084585   0.004004\n",
            "684        0.353353     0.000250   0.054054   0.002002\n",
            "\n",
            "[1600 rows x 4 columns]\n",
            "582     0.000000\n",
            "159     0.000501\n",
            "1827    0.001502\n",
            "318     0.000000\n",
            "708     0.001502\n",
            "          ...   \n",
            "835     0.001502\n",
            "1216    0.000501\n",
            "1653    0.001502\n",
            "559     0.000000\n",
            "684     0.000501\n",
            "Name: price_range, Length: 1600, dtype: float64\n",
            "      battery_power  clock_speed  mobile_wt  talk_time\n",
            "405        0.727728     0.000250   0.041542   0.002503\n",
            "1190       0.546547     0.000250   0.083584   0.005506\n",
            "1132       0.762763     0.000901   0.087087   0.006507\n",
            "731        0.904404     0.001051   0.062563   0.006507\n",
            "1754       0.543544     0.000851   0.055556   0.008509\n",
            "...             ...          ...        ...        ...\n",
            "638        0.477978     0.000250   0.071572   0.004505\n",
            "360        0.404905     0.000400   0.045546   0.001502\n",
            "1810       0.297297     0.001301   0.098098   0.008509\n",
            "1743       0.837337     0.000801   0.091091   0.010010\n",
            "563        0.645646     0.000250   0.071572   0.007508\n",
            "\n",
            "[400 rows x 4 columns]\n",
            "405     0.001502\n",
            "1190    0.000000\n",
            "1132    0.001001\n",
            "731     0.001001\n",
            "1754    0.001001\n",
            "          ...   \n",
            "638     0.000501\n",
            "360     0.000501\n",
            "1810    0.000000\n",
            "1743    0.001001\n",
            "563     0.000501\n",
            "Name: price_range, Length: 400, dtype: float64\n"
          ]
        }
      ]
    },
    {
      "cell_type": "code",
      "source": [
        "size_x=x.size\n",
        "size_y=y.size\n",
        "print(size_x)\n",
        "print(size_y)\n",
        "print(data.size)\n",
        "print('The shape of the data is', data.shape)\n",
        "print('The X shape of the data is', x.shape)\n",
        "print('The type of the data is ', type(x))\n",
        "bool_series = pd.isnull(data[\"battery_power\"])\n",
        "missing_values_count = bool_series.sum()\n",
        "print(\"Count of missing values in the 'Team' column:\", missing_values_count)\n",
        "print(bool_series)"
      ],
      "metadata": {
        "colab": {
          "base_uri": "https://localhost:8080/"
        },
        "id": "eNt80JmAi9sw",
        "outputId": "8b76b732-a1c3-497c-a45c-3072f33d6923"
      },
      "execution_count": null,
      "outputs": [
        {
          "output_type": "stream",
          "name": "stdout",
          "text": [
            "8000\n",
            "2000\n",
            "10000\n",
            "The shape of the data is (2000, 5)\n",
            "The X shape of the data is (2000, 4)\n",
            "The type of the data is  <class 'pandas.core.frame.DataFrame'>\n",
            "Count of missing values in the 'Team' column: 0\n",
            "0       False\n",
            "1       False\n",
            "2       False\n",
            "3       False\n",
            "4       False\n",
            "        ...  \n",
            "1995    False\n",
            "1996    False\n",
            "1997    False\n",
            "1998    False\n",
            "1999    False\n",
            "Name: battery_power, Length: 2000, dtype: bool\n"
          ]
        }
      ]
    },
    {
      "cell_type": "code",
      "source": [],
      "metadata": {
        "id": "Pv1WE3p4i-ja"
      },
      "execution_count": null,
      "outputs": []
    }
  ]
}