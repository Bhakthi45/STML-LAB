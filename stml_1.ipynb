{
  "nbformat": 4,
  "nbformat_minor": 0,
  "metadata": {
    "colab": {
      "provenance": [],
      "toc_visible": true,
      "authorship_tag": "ABX9TyNkLqC6J1/iq0tnPlYIW9QD",
      "include_colab_link": true
    },
    "kernelspec": {
      "name": "python3",
      "display_name": "Python 3"
    },
    "language_info": {
      "name": "python"
    }
  },
  "cells": [
    {
      "cell_type": "markdown",
      "metadata": {
        "id": "view-in-github",
        "colab_type": "text"
      },
      "source": [
        "<a href=\"https://colab.research.google.com/github/Bhakthi45/STML-LAB/blob/main/stml_1.ipynb\" target=\"_parent\"><img src=\"https://colab.research.google.com/assets/colab-badge.svg\" alt=\"Open In Colab\"/></a>"
      ]
    },
    {
      "cell_type": "code",
      "execution_count": null,
      "metadata": {
        "colab": {
          "base_uri": "https://localhost:8080/",
          "height": 1000
        },
        "id": "QZhjEnNuY_SJ",
        "outputId": "8e114004-f803-4c9c-ef41-268a670b0672"
      },
      "outputs": [
        {
          "output_type": "stream",
          "name": "stdout",
          "text": [
            "    Age\n",
            "0    70\n",
            "1    55\n",
            "2    42\n",
            "3    84\n",
            "4    86\n",
            "5    66\n",
            "6    33\n",
            "7    84\n",
            "8    73\n",
            "9    63\n",
            "10   88\n",
            "11   69\n",
            "12   78\n",
            "13   89\n",
            "14   71\n",
            "15   30\n",
            "16   77\n",
            "17   86\n",
            "18   76\n",
            "19   74\n",
            "the mean of the data= 60.338\n",
            "the median of the data= 60.5\n",
            "the mode of the data= 71\n",
            "the standard deviation of the data= Age    17.308835\n",
            "dtype: float64\n",
            "the variance of the data= Age    299.595756\n",
            "dtype: float64\n",
            "the skewness of the data= [-0.03564232]\n",
            "the kurtosis of the data= [-1.24859277]\n",
            "the SD of the data= Age    17.308835\n",
            "dtype: float64\n",
            "the skew of the data = [-0.03564232]\n",
            "the kurtosis of the data= [-1.24859277]\n",
            "the IQR of the data = 31.0\n",
            "the range of the data = 59\n"
          ]
        },
        {
          "output_type": "stream",
          "name": "stderr",
          "text": [
            "/usr/local/lib/python3.10/dist-packages/numpy/core/fromnumeric.py:3643: FutureWarning: The behavior of DataFrame.std with axis=None is deprecated, in a future version this will reduce over both axes and return a scalar. To retain the old behavior, pass axis=0 (or do not pass axis)\n",
            "  return std(axis=axis, dtype=dtype, out=out, ddof=ddof, **kwargs)\n",
            "/usr/local/lib/python3.10/dist-packages/numpy/core/fromnumeric.py:3785: FutureWarning: The behavior of DataFrame.var with axis=None is deprecated, in a future version this will reduce over both axes and return a scalar. To retain the old behavior, pass axis=0 (or do not pass axis)\n",
            "  return var(axis=axis, dtype=dtype, out=out, ddof=ddof, **kwargs)\n"
          ]
        },
        {
          "output_type": "display_data",
          "data": {
            "text/plain": [
              "<Figure size 640x480 with 1 Axes>"
            ],
            "image/png": "[encoded data removed]"
          },
          "metadata": {}
        }
      ],
      "source": [
        "import pandas as pd\n",
        "import numpy as np\n",
        "import matplotlib.pyplot as plt\n",
        "import statistics as stat\n",
        "from scipy.stats import skew\n",
        "from scipy.stats import kurtosis\n",
        "from scipy.stats import iqr\n",
        "data =pd.read_csv(('/heart_attack_dataset.csv'),usecols=(['Age']))\n",
        "p=data.head(20)\n",
        "print(data.head(20))\n",
        "print(\"the mean of the data=\",np.mean(data))\n",
        "print(\"the median of the data=\",np.median(data))\n",
        "print(\"the mode of the data=\",stat.mode(data['Age']))\n",
        "print(\"the standard deviation of the data=\",np.std(data))\n",
        "print(\"the variance of the data=\",np.var(data))\n",
        "print(\"the skewness of the data=\",skew(data))\n",
        "print(\"the kurtosis of the data=\",kurtosis(data))\n",
        "print(\"the SD of the data=\",np.std(data))\n",
        "print(\"the skew of the data =\",skew(data,axis=0,bias=True))\n",
        "print(\"the kurtosis of the data=\",kurtosis(data,axis=0,bias=True))\n",
        "print(\"the IQR of the data =\",iqr(data))\n",
        "data_range =  np.max(data['Age'])  -  np.min(data['Age'])\n",
        "print(\"the range of the data =\",data_range)\n",
        "plt.hist(data,100)\n",
        "plt.show()"
      ]
    },
    {
      "cell_type": "code",
      "source": [
        "import pandas as pd\n",
        "import numpy as np\n",
        "import matplotlib.pyplot as plt\n",
        "import statistics as stat\n",
        "from scipy.stats import skew\n",
        "from scipy.stats import kurtosis\n",
        "from scipy.stats import iqr\n",
        "data =pd.read_csv(('/heart_attack_dataset.csv'),usecols=(['Blood Pressure (mmHg)']))\n",
        "p=data.head(20)\n",
        "print(data.head(20))\n",
        "print(\"the mean of the data=\",np.mean(data))\n",
        "print(\"the median of the data=\",np.median(data))\n",
        "print(\"the mode of the data=\",stat.mode(data['Blood Pressure (mmHg)']))\n",
        "print(\"the standard deviation of the data=\",np.std(data))\n",
        "print(\"the variance of the data=\",np.var(data))\n",
        "print(\"the skewness of the data=\",skew(data))\n",
        "print(\"the kurtosis of the data=\",kurtosis(data))\n",
        "print(\"the iqr of the data =\",iqr(data))\n",
        "data_range =  np.max(data['Blood Pressure (mmHg)'])  -  np.min(data['Blood Pressure (mmHg)'])\n",
        "print(\"the range of the data =\",data_range)\n",
        "plt.hist(data,100)\n",
        "plt.show()"
      ],
      "metadata": {
        "colab": {
          "base_uri": "https://localhost:8080/",
          "height": 1000
        },
        "id": "ZV2ir2QiZINl",
        "outputId": "069a6f38-9f3e-42d2-e53f-5676387f3093"
      },
      "execution_count": null,
      "outputs": [
        {
          "output_type": "stream",
          "name": "stdout",
          "text": [
            "    Blood Pressure (mmHg)\n",
            "0                     181\n",
            "1                     103\n",
            "2                      95\n",
            "3                     106\n",
            "4                     187\n",
            "5                     125\n",
            "6                     181\n",
            "7                     182\n",
            "8                     115\n",
            "9                     174\n",
            "10                    154\n",
            "11                    133\n",
            "12                    165\n",
            "13                    153\n",
            "14                    110\n",
            "15                    107\n",
            "16                    112\n",
            "17                     91\n",
            "18                    101\n",
            "19                    125\n",
            "the mean of the data= 145.44\n",
            "the median of the data= 146.0\n",
            "the mode of the data= 106\n",
            "the standard deviation of the data= Blood Pressure (mmHg)    31.740643\n",
            "dtype: float64\n",
            "the variance of the data= Blood Pressure (mmHg)    1007.4684\n",
            "dtype: float64\n",
            "the skewness of the data= [-0.00906837]\n",
            "the kurtosis of the data= [-1.17992631]\n",
            "the iqr of the data = 55.0\n",
            "the range of the data = 109\n"
          ]
        },
        {
          "output_type": "stream",
          "name": "stderr",
          "text": [
            "/usr/local/lib/python3.10/dist-packages/numpy/core/fromnumeric.py:3643: FutureWarning: The behavior of DataFrame.std with axis=None is deprecated, in a future version this will reduce over both axes and return a scalar. To retain the old behavior, pass axis=0 (or do not pass axis)\n",
            "  return std(axis=axis, dtype=dtype, out=out, ddof=ddof, **kwargs)\n",
            "/usr/local/lib/python3.10/dist-packages/numpy/core/fromnumeric.py:3785: FutureWarning: The behavior of DataFrame.var with axis=None is deprecated, in a future version this will reduce over both axes and return a scalar. To retain the old behavior, pass axis=0 (or do not pass axis)\n",
            "  return var(axis=axis, dtype=dtype, out=out, ddof=ddof, **kwargs)\n"
          ]
        },
        {
          "output_type": "display_data",
          "data": {
            "text/plain": [
              "<Figure size 640x480 with 1 Axes>"
            ],
            "image/png": "[encoded data removed]"
          },
          "metadata": {}
        }
      ]
    },
    {
      "cell_type": "code",
      "source": [
        "import pandas as pd\n",
        "import numpy as np\n",
        "import matplotlib.pyplot as plt\n",
        "import statistics\n",
        "import scipy as sp\n",
        "from scipy.stats import skew\n",
        "from scipy.stats import kurtosis\n",
        "from scipy.stats import iqr\n",
        "data =pd.read_csv(('/heart_attack_dataset.csv'),usecols=(['Cholesterol (mg/dL)']))\n",
        "p=data.head(20)\n",
        "print(data.head(20))\n",
        "print(\"the mean of the data=\",np.mean(data))\n",
        "print(\"the median of the data=\",np.median(data))\n",
        "print(\"the mode of the data=\",statistics.mode(data))\n",
        "print(\"the standard deviation of the data=\",np.std(data))\n",
        "print(\"the variance of the data=\",np.var(data))\n",
        "print(\"the skewness of the data=\",skew(data))\n",
        "print(\"the kurtosis of the data=\",kurtosis(data))\n",
        "print(\"the iqr of the data =\",iqr(data))\n",
        "data_range =  np.max(data['Cholesterol (mg/dL)'])  -  np.min(data['Cholesterol (mg/dL)'])\n",
        "print(\"the range of the data =\",data_range)\n",
        "plt.hist(data,100)\n",
        "plt.show()"
      ],
      "metadata": {
        "colab": {
          "base_uri": "https://localhost:8080/",
          "height": 1000
        },
        "id": "tH3DzobWZSUK",
        "outputId": "ffa47e90-fc0e-43e0-d48b-e3d54a34192b"
      },
      "execution_count": null,
      "outputs": [
        {
          "output_type": "stream",
          "name": "stdout",
          "text": [
            "    Cholesterol (mg/dL)\n",
            "0                   262\n",
            "1                   253\n",
            "2                   295\n",
            "3                   270\n",
            "4                   296\n",
            "5                   271\n",
            "6                   262\n",
            "7                   288\n",
            "8                   286\n",
            "9                   254\n",
            "10                  150\n",
            "11                  236\n",
            "12                  171\n",
            "13                  215\n",
            "14                  182\n",
            "15                  242\n",
            "16                  179\n",
            "17                  254\n",
            "18                  227\n",
            "19                  259\n",
            "the mean of the data= 223.789\n",
            "the median of the data= 225.5\n",
            "the mode of the data= Cholesterol (mg/dL)\n",
            "the standard deviation of the data= Cholesterol (mg/dL)    42.766418\n",
            "dtype: float64\n",
            "the variance of the data= Cholesterol (mg/dL)    1828.966479\n",
            "dtype: float64\n",
            "the skewness of the data= [3.86322596e-06]\n",
            "the kurtosis of the data= [-1.20459568]\n",
            "the iqr of the data = 74.0\n",
            "the range of the data = 149\n"
          ]
        },
        {
          "output_type": "stream",
          "name": "stderr",
          "text": [
            "/usr/local/lib/python3.10/dist-packages/numpy/core/fromnumeric.py:3643: FutureWarning: The behavior of DataFrame.std with axis=None is deprecated, in a future version this will reduce over both axes and return a scalar. To retain the old behavior, pass axis=0 (or do not pass axis)\n",
            "  return std(axis=axis, dtype=dtype, out=out, ddof=ddof, **kwargs)\n",
            "/usr/local/lib/python3.10/dist-packages/numpy/core/fromnumeric.py:3785: FutureWarning: The behavior of DataFrame.var with axis=None is deprecated, in a future version this will reduce over both axes and return a scalar. To retain the old behavior, pass axis=0 (or do not pass axis)\n",
            "  return var(axis=axis, dtype=dtype, out=out, ddof=ddof, **kwargs)\n"
          ]
        },
        {
          "output_type": "display_data",
          "data": {
            "text/plain": [
              "<Figure size 640x480 with 1 Axes>"
            ],
            "image/png": "[encoded data removed]"
          },
          "metadata": {}
        }
      ]
    },
    {
      "cell_type": "code",
      "source": [
        "from google.colab import drive\n",
        "drive.mount('/content/drive')"
      ],
      "metadata": {
        "id": "D30nC70cZdHe"
      },
      "execution_count": null,
      "outputs": []
    }
  ]
}